{
 "cells": [
  {
   "cell_type": "markdown",
   "id": "bb856a74-8403-41e7-9cf5-cc8bd7c41beb",
   "metadata": {},
   "source": [
    "### Linear Regression in Machine Learning :\n",
    "Linear regression is a supervised learning algorithm used to predict a continuous target variable based on one or more independent variables. It assumes a linear relationship between the input features (independent variables) and the output (dependent variable)."
   ]
  },
  {
   "cell_type": "markdown",
   "id": "06fc301d-92d2-48c4-9909-24bec6b5582d",
   "metadata": {},
   "source": [
    "### Steps in Linear Regression\n"
   ]
  },
  {
   "cell_type": "raw",
   "id": "c36a17fa-f4f3-481b-8082-3cce30c95a49",
   "metadata": {},
   "source": [
    "1 Understand the Data: Ensure the target variable is continuous and the relationship is linear.\n",
    "2 Split the Data: Divide into training and testing sets.\n",
    "3 Train the Model: Fit the linear regression model using training data.\n",
    "4 Evaluate the Model: Use metrics like R-squared, Mean Squared Error (MSE), or Mean Absolute Error (MAE) to assess model performance."
   ]
  },
  {
   "cell_type": "markdown",
   "id": "4534a967-2ab5-42c8-8bf4-c93a380ae8e1",
   "metadata": {},
   "source": [
    "## example 1 : Simple Linear Regression"
   ]
  },
  {
   "cell_type": "code",
   "execution_count": 7,
   "id": "b662ed89-5578-4155-a427-6486d15da51d",
   "metadata": {},
   "outputs": [],
   "source": [
    "import pandas as pd\n",
    "import numpy as np\n",
    "from sklearn.model_selection import train_test_split\n",
    "from sklearn.linear_model import LinearRegression\n",
    "from sklearn.metrics import mean_squared_error"
   ]
  },
  {
   "cell_type": "code",
   "execution_count": 51,
   "id": "fca1cdc0-b136-4daa-998d-9861760979cf",
   "metadata": {},
   "outputs": [
    {
     "data": {
      "text/html": [
       "<div>\n",
       "<style scoped>\n",
       "    .dataframe tbody tr th:only-of-type {\n",
       "        vertical-align: middle;\n",
       "    }\n",
       "\n",
       "    .dataframe tbody tr th {\n",
       "        vertical-align: top;\n",
       "    }\n",
       "\n",
       "    .dataframe thead th {\n",
       "        text-align: right;\n",
       "    }\n",
       "</style>\n",
       "<table border=\"1\" class=\"dataframe\">\n",
       "  <thead>\n",
       "    <tr style=\"text-align: right;\">\n",
       "      <th></th>\n",
       "      <th>Square_Feet</th>\n",
       "      <th>Price</th>\n",
       "    </tr>\n",
       "  </thead>\n",
       "  <tbody>\n",
       "    <tr>\n",
       "      <th>0</th>\n",
       "      <td>1500</td>\n",
       "      <td>300000</td>\n",
       "    </tr>\n",
       "    <tr>\n",
       "      <th>1</th>\n",
       "      <td>1800</td>\n",
       "      <td>360000</td>\n",
       "    </tr>\n",
       "    <tr>\n",
       "      <th>2</th>\n",
       "      <td>2400</td>\n",
       "      <td>500000</td>\n",
       "    </tr>\n",
       "    <tr>\n",
       "      <th>3</th>\n",
       "      <td>3000</td>\n",
       "      <td>600000</td>\n",
       "    </tr>\n",
       "    <tr>\n",
       "      <th>4</th>\n",
       "      <td>3500</td>\n",
       "      <td>650000</td>\n",
       "    </tr>\n",
       "  </tbody>\n",
       "</table>\n",
       "</div>"
      ],
      "text/plain": [
       "   Square_Feet   Price\n",
       "0         1500  300000\n",
       "1         1800  360000\n",
       "2         2400  500000\n",
       "3         3000  600000\n",
       "4         3500  650000"
      ]
     },
     "execution_count": 51,
     "metadata": {},
     "output_type": "execute_result"
    }
   ],
   "source": [
    "data = {'Square_Feet': [1500, 1800, 2400, 3000, 3500],\n",
    "        'Price': [300000, 360000, 500000, 600000, 650000]}\n",
    "df=pd.DataFrame(data)\n",
    "df"
   ]
  },
  {
   "cell_type": "code",
   "execution_count": 55,
   "id": "72167dd8-ef70-49c7-a21f-037dfa7cb0a9",
   "metadata": {},
   "outputs": [
    {
     "name": "stdout",
     "output_type": "stream",
     "text": [
      "Mean Squared Error: 103178009.09017195\n",
      "Model Coefficients: [177.92792793]\n",
      "Model Intercept: 49887.387387387455\n"
     ]
    }
   ],
   "source": [
    "\n",
    "# Features and Target\n",
    "X = df[['Square_Feet']]  # Independent variable\n",
    "y = df['Price']          # Dependent variable\n",
    "\n",
    "# Split data\n",
    "X_train, X_test, y_train, y_test = train_test_split(X, y, test_size=0.2, random_state=42)\n",
    "\n",
    "# Train model\n",
    "model = LinearRegression()\n",
    "model.fit(X_train, y_train)\n",
    "\n",
    "# Predict and evaluate\n",
    "predictions = model.predict(X_test)\n",
    "print(\"Mean Squared Error:\", mean_squared_error(y_test, predictions))\n",
    "print(\"Model Coefficients:\", model.coef_)\n",
    "print(\"Model Intercept:\", model.intercept_)\n"
   ]
  },
  {
   "cell_type": "markdown",
   "id": "f193a420-e5a6-4fc0-9ed3-4d7d74213423",
   "metadata": {},
   "source": [
    "## example 2: Multiple Linear Regression"
   ]
  },
  {
   "cell_type": "code",
   "execution_count": 65,
   "id": "51f8c8e9-ee75-4dde-843d-2ed6593049d4",
   "metadata": {},
   "outputs": [
    {
     "data": {
      "text/html": [
       "<div>\n",
       "<style scoped>\n",
       "    .dataframe tbody tr th:only-of-type {\n",
       "        vertical-align: middle;\n",
       "    }\n",
       "\n",
       "    .dataframe tbody tr th {\n",
       "        vertical-align: top;\n",
       "    }\n",
       "\n",
       "    .dataframe thead th {\n",
       "        text-align: right;\n",
       "    }\n",
       "</style>\n",
       "<table border=\"1\" class=\"dataframe\">\n",
       "  <thead>\n",
       "    <tr style=\"text-align: right;\">\n",
       "      <th></th>\n",
       "      <th>Engine_Size</th>\n",
       "      <th>Horsepower</th>\n",
       "      <th>Weight</th>\n",
       "      <th>Price</th>\n",
       "    </tr>\n",
       "  </thead>\n",
       "  <tbody>\n",
       "    <tr>\n",
       "      <th>0</th>\n",
       "      <td>1.8</td>\n",
       "      <td>140</td>\n",
       "      <td>2800</td>\n",
       "      <td>22000</td>\n",
       "    </tr>\n",
       "    <tr>\n",
       "      <th>1</th>\n",
       "      <td>2.0</td>\n",
       "      <td>160</td>\n",
       "      <td>3000</td>\n",
       "      <td>25000</td>\n",
       "    </tr>\n",
       "    <tr>\n",
       "      <th>2</th>\n",
       "      <td>2.4</td>\n",
       "      <td>200</td>\n",
       "      <td>3200</td>\n",
       "      <td>28000</td>\n",
       "    </tr>\n",
       "    <tr>\n",
       "      <th>3</th>\n",
       "      <td>3.0</td>\n",
       "      <td>240</td>\n",
       "      <td>3600</td>\n",
       "      <td>32000</td>\n",
       "    </tr>\n",
       "    <tr>\n",
       "      <th>4</th>\n",
       "      <td>3.6</td>\n",
       "      <td>300</td>\n",
       "      <td>4000</td>\n",
       "      <td>36000</td>\n",
       "    </tr>\n",
       "  </tbody>\n",
       "</table>\n",
       "</div>"
      ],
      "text/plain": [
       "   Engine_Size  Horsepower  Weight  Price\n",
       "0          1.8         140    2800  22000\n",
       "1          2.0         160    3000  25000\n",
       "2          2.4         200    3200  28000\n",
       "3          3.0         240    3600  32000\n",
       "4          3.6         300    4000  36000"
      ]
     },
     "execution_count": 65,
     "metadata": {},
     "output_type": "execute_result"
    }
   ],
   "source": [
    "# Sample data\n",
    "data = {'Engine_Size': [1.8, 2.0, 2.4, 3.0, 3.6],\n",
    "        'Horsepower': [140, 160, 200, 240, 300],\n",
    "        'Weight': [2800, 3000, 3200, 3600, 4000],\n",
    "        'Price': [22000, 25000, 28000, 32000, 36000]}\n",
    "df=pd.DataFrame(data)\n",
    "df"
   ]
  },
  {
   "cell_type": "code",
   "execution_count": 75,
   "id": "7b74160e-fb82-424d-b2ff-5615e93328da",
   "metadata": {
    "jp-MarkdownHeadingCollapsed": true
   },
   "outputs": [],
   "source": [
    "# features and targets\n",
    "X=df.drop('Price',axis=1)\n",
    "y=df['Price']\n"
   ]
  },
  {
   "cell_type": "code",
   "execution_count": null,
   "id": "64553ade-a1a7-4796-941f-27c267a39ee8",
   "metadata": {},
   "outputs": [],
   "source": [
    "\n"
   ]
  },
  {
   "cell_type": "code",
   "execution_count": null,
   "id": "c7476d8d-9cd1-488d-9fff-a0280e125f86",
   "metadata": {},
   "outputs": [],
   "source": []
  },
  {
   "cell_type": "code",
   "execution_count": 77,
   "id": "7ca3ecf2-6e28-4341-b56b-e2328a030fe1",
   "metadata": {},
   "outputs": [
    {
     "data": {
      "text/plain": [
       "(   Engine_Size  Horsepower  Weight\n",
       " 0          1.8         140    2800\n",
       " 1          2.0         160    3000\n",
       " 2          2.4         200    3200\n",
       " 3          3.0         240    3600\n",
       " 4          3.6         300    4000,\n",
       " 0    22000\n",
       " 1    25000\n",
       " 2    28000\n",
       " 3    32000\n",
       " 4    36000\n",
       " Name: Price, dtype: int64)"
      ]
     },
     "execution_count": 77,
     "metadata": {},
     "output_type": "execute_result"
    }
   ],
   "source": [
    "X,y"
   ]
  },
  {
   "cell_type": "code",
   "execution_count": 94,
   "id": "89584b3f-8a52-42d1-a101-a655ce1f6435",
   "metadata": {},
   "outputs": [
    {
     "name": "stdout",
     "output_type": "stream",
     "text": [
      "[26000.001875]\n"
     ]
    },
    {
     "name": "stderr",
     "output_type": "stream",
     "text": [
      "/home/menge/anaconda3/lib/python3.12/site-packages/sklearn/base.py:493: UserWarning: X does not have valid feature names, but LinearRegression was fitted with feature names\n",
      "  warnings.warn(\n"
     ]
    }
   ],
   "source": [
    "\n",
    "# Features and targets\n",
    "X = df.drop('Price', axis=1)\n",
    "y = df['Price']\n",
    "\n",
    "# Split data into training and testing sets\n",
    "X_train, X_test, y_train, y_test = train_test_split(X, y, test_size=0.2, random_state=42)\n",
    "\n",
    "# Model training\n",
    "model = LinearRegression()\n",
    "model.fit(X_train, y_train)\n",
    "\n",
    "#prediction\n",
    "new_data=[[2.5, 180, 3100]]\n",
    "predicted=model.predict(new_data)\n",
    "print(predicted)\n"
   ]
  },
  {
   "cell_type": "code",
   "execution_count": 92,
   "id": "7b64216b-388b-4e0c-8db7-bb08038e59c6",
   "metadata": {},
   "outputs": [
    {
     "name": "stdout",
     "output_type": "stream",
     "text": [
      "Model Coefficients: [7.49998313e-03 5.00000000e+01 4.99998875e+00]\n",
      "Model Intercept: 1500.017999959604\n"
     ]
    }
   ],
   "source": [
    "# Model evaluation\n",
    "print(\"Model Coefficients:\", model.coef_)\n",
    "print(\"Model Intercept:\", model.intercept_)\n"
   ]
  },
  {
   "cell_type": "markdown",
   "id": "54be63cd-79cd-431b-9005-d601e0ecad73",
   "metadata": {},
   "source": [
    "## Example 3: "
   ]
  },
  {
   "cell_type": "markdown",
   "id": "05f3c420-9c10-400c-bd24-15ab17c45c6a",
   "metadata": {},
   "source": [
    "### 1. import library and load data"
   ]
  },
  {
   "cell_type": "code",
   "execution_count": 105,
   "id": "1d73a386-bc47-42c0-aa05-19df5e815d77",
   "metadata": {},
   "outputs": [
    {
     "data": {
      "text/html": [
       "<div>\n",
       "<style scoped>\n",
       "    .dataframe tbody tr th:only-of-type {\n",
       "        vertical-align: middle;\n",
       "    }\n",
       "\n",
       "    .dataframe tbody tr th {\n",
       "        vertical-align: top;\n",
       "    }\n",
       "\n",
       "    .dataframe thead th {\n",
       "        text-align: right;\n",
       "    }\n",
       "</style>\n",
       "<table border=\"1\" class=\"dataframe\">\n",
       "  <thead>\n",
       "    <tr style=\"text-align: right;\">\n",
       "      <th></th>\n",
       "      <th>MedInc</th>\n",
       "      <th>HouseAge</th>\n",
       "      <th>AveRooms</th>\n",
       "      <th>AveBedrms</th>\n",
       "      <th>Population</th>\n",
       "      <th>AveOccup</th>\n",
       "      <th>Latitude</th>\n",
       "      <th>Longitude</th>\n",
       "      <th>MedHouseVal</th>\n",
       "    </tr>\n",
       "  </thead>\n",
       "  <tbody>\n",
       "    <tr>\n",
       "      <th>0</th>\n",
       "      <td>8.3252</td>\n",
       "      <td>41.0</td>\n",
       "      <td>6.984127</td>\n",
       "      <td>1.023810</td>\n",
       "      <td>322.0</td>\n",
       "      <td>2.555556</td>\n",
       "      <td>37.88</td>\n",
       "      <td>-122.23</td>\n",
       "      <td>4.526</td>\n",
       "    </tr>\n",
       "    <tr>\n",
       "      <th>1</th>\n",
       "      <td>8.3014</td>\n",
       "      <td>21.0</td>\n",
       "      <td>6.238137</td>\n",
       "      <td>0.971880</td>\n",
       "      <td>2401.0</td>\n",
       "      <td>2.109842</td>\n",
       "      <td>37.86</td>\n",
       "      <td>-122.22</td>\n",
       "      <td>3.585</td>\n",
       "    </tr>\n",
       "    <tr>\n",
       "      <th>2</th>\n",
       "      <td>7.2574</td>\n",
       "      <td>52.0</td>\n",
       "      <td>8.288136</td>\n",
       "      <td>1.073446</td>\n",
       "      <td>496.0</td>\n",
       "      <td>2.802260</td>\n",
       "      <td>37.85</td>\n",
       "      <td>-122.24</td>\n",
       "      <td>3.521</td>\n",
       "    </tr>\n",
       "    <tr>\n",
       "      <th>3</th>\n",
       "      <td>5.6431</td>\n",
       "      <td>52.0</td>\n",
       "      <td>5.817352</td>\n",
       "      <td>1.073059</td>\n",
       "      <td>558.0</td>\n",
       "      <td>2.547945</td>\n",
       "      <td>37.85</td>\n",
       "      <td>-122.25</td>\n",
       "      <td>3.413</td>\n",
       "    </tr>\n",
       "    <tr>\n",
       "      <th>4</th>\n",
       "      <td>3.8462</td>\n",
       "      <td>52.0</td>\n",
       "      <td>6.281853</td>\n",
       "      <td>1.081081</td>\n",
       "      <td>565.0</td>\n",
       "      <td>2.181467</td>\n",
       "      <td>37.85</td>\n",
       "      <td>-122.25</td>\n",
       "      <td>3.422</td>\n",
       "    </tr>\n",
       "  </tbody>\n",
       "</table>\n",
       "</div>"
      ],
      "text/plain": [
       "   MedInc  HouseAge  AveRooms  AveBedrms  Population  AveOccup  Latitude  \\\n",
       "0  8.3252      41.0  6.984127   1.023810       322.0  2.555556     37.88   \n",
       "1  8.3014      21.0  6.238137   0.971880      2401.0  2.109842     37.86   \n",
       "2  7.2574      52.0  8.288136   1.073446       496.0  2.802260     37.85   \n",
       "3  5.6431      52.0  5.817352   1.073059       558.0  2.547945     37.85   \n",
       "4  3.8462      52.0  6.281853   1.081081       565.0  2.181467     37.85   \n",
       "\n",
       "   Longitude  MedHouseVal  \n",
       "0    -122.23        4.526  \n",
       "1    -122.22        3.585  \n",
       "2    -122.24        3.521  \n",
       "3    -122.25        3.413  \n",
       "4    -122.25        3.422  "
      ]
     },
     "execution_count": 105,
     "metadata": {},
     "output_type": "execute_result"
    }
   ],
   "source": [
    "import numpy as np\n",
    "import pandas as pd\n",
    "from sklearn.datasets import fetch_california_housing\n",
    "from sklearn.model_selection import train_test_split\n",
    "from sklearn.linear_model import LinearRegression\n",
    "from sklearn.metrics import mean_squared_error, r2_score\n",
    "from sklearn.preprocessing import StandardScaler\n",
    "\n",
    "# Load California Housing dataset\n",
    "california = fetch_california_housing(as_frame=True)\n",
    "df = california.frame\n",
    "\n",
    "# Display dataset information\n",
    "df.head()\n"
   ]
  },
  {
   "cell_type": "code",
   "execution_count": 108,
   "id": "3968b07f-448e-4179-b746-1d0ea7e24bca",
   "metadata": {},
   "outputs": [
    {
     "data": {
      "text/plain": [
       "Index(['MedInc', 'HouseAge', 'AveRooms', 'AveBedrms', 'Population', 'AveOccup',\n",
       "       'Latitude', 'Longitude', 'MedHouseVal'],\n",
       "      dtype='object')"
      ]
     },
     "execution_count": 108,
     "metadata": {},
     "output_type": "execute_result"
    }
   ],
   "source": [
    "df.columns"
   ]
  },
  {
   "cell_type": "markdown",
   "id": "22e33e67-1dc4-4988-a565-9e3fd149b97a",
   "metadata": {},
   "source": [
    "### 2. feature selection and splitting data"
   ]
  },
  {
   "cell_type": "code",
   "execution_count": 111,
   "id": "fd9dd801-be48-4458-a82f-07447627ee53",
   "metadata": {},
   "outputs": [],
   "source": [
    "# Select features and target\n",
    "X = df.drop(['AveOccup','Latitude','Longitude'],axis=1)  # Features\n",
    "y = df['MedHouseVal']  # Target\n",
    "\n",
    "# Train-test split\n",
    "X_train, X_test, y_train, y_test = train_test_split(X, y, test_size=0.2, random_state=42)\n"
   ]
  },
  {
   "cell_type": "markdown",
   "id": "3e752150-2061-421d-bc35-4016d5a1d4b2",
   "metadata": {},
   "source": [
    "### 3. Feature Scaling"
   ]
  },
  {
   "cell_type": "code",
   "execution_count": 114,
   "id": "f891fe9b-38e1-4952-a947-cbd6f65d85cd",
   "metadata": {},
   "outputs": [],
   "source": [
    "# Scale features\n",
    "scaler = StandardScaler()\n",
    "X_train_scaled = scaler.fit_transform(X_train)\n",
    "X_test_scaled = scaler.transform(X_test)\n"
   ]
  },
  {
   "cell_type": "markdown",
   "id": "12c8fdb3-0187-461c-b0ef-bed2f9d301b1",
   "metadata": {},
   "source": [
    "### 4. train the model"
   ]
  },
  {
   "cell_type": "code",
   "execution_count": 117,
   "id": "cfb3e004-c55e-46fd-972b-024af6f8b7b3",
   "metadata": {},
   "outputs": [
    {
     "name": "stdout",
     "output_type": "stream",
     "text": [
      "Model Coefficients: [-6.01673052e-16 -1.32611373e-16  4.14125187e-16 -6.43734737e-16\n",
      " -1.94568825e-17  1.15619125e+00]\n",
      "Model Intercept: 2.071946937378876\n"
     ]
    }
   ],
   "source": [
    "# Train the model\n",
    "model = LinearRegression()\n",
    "model.fit(X_train_scaled, y_train)\n",
    "\n",
    "# Display coefficients and intercept\n",
    "print(\"Model Coefficients:\", model.coef_)\n",
    "print(\"Model Intercept:\", model.intercept_)"
   ]
  },
  {
   "cell_type": "markdown",
   "id": "6dd968c5-7404-4257-830d-f435508c7bc8",
   "metadata": {},
   "source": [
    "### 5.model evalution"
   ]
  },
  {
   "cell_type": "code",
   "execution_count": 120,
   "id": "cfb8305c-55c2-4d41-b1cf-1d7b613f3fcc",
   "metadata": {},
   "outputs": [
    {
     "name": "stdout",
     "output_type": "stream",
     "text": [
      "Mean Squared Error: 0.00\n",
      "R² Score: 1.00\n"
     ]
    }
   ],
   "source": [
    "# Predict on the test set\n",
    "y_pred = model.predict(X_test_scaled)\n",
    "\n",
    "# Evaluate the model\n",
    "mse = mean_squared_error(y_test, y_pred)\n",
    "r2 = r2_score(y_test, y_pred)\n",
    "\n",
    "print(f\"Mean Squared Error: {mse:.2f}\")\n",
    "print(f\"R² Score: {r2:.2f}\")\n"
   ]
  },
  {
   "cell_type": "markdown",
   "id": "a0a32741-7704-4ca7-a292-be8ac8c3b60c",
   "metadata": {},
   "source": [
    "### 6. Feature Importance"
   ]
  },
  {
   "cell_type": "code",
   "execution_count": 125,
   "id": "6ab20287-51af-41b7-b2fb-3faec2c3598f",
   "metadata": {},
   "outputs": [
    {
     "data": {
      "text/html": [
       "<div>\n",
       "<style scoped>\n",
       "    .dataframe tbody tr th:only-of-type {\n",
       "        vertical-align: middle;\n",
       "    }\n",
       "\n",
       "    .dataframe tbody tr th {\n",
       "        vertical-align: top;\n",
       "    }\n",
       "\n",
       "    .dataframe thead th {\n",
       "        text-align: right;\n",
       "    }\n",
       "</style>\n",
       "<table border=\"1\" class=\"dataframe\">\n",
       "  <thead>\n",
       "    <tr style=\"text-align: right;\">\n",
       "      <th></th>\n",
       "      <th>Feature</th>\n",
       "      <th>Coefficient</th>\n",
       "    </tr>\n",
       "  </thead>\n",
       "  <tbody>\n",
       "    <tr>\n",
       "      <th>5</th>\n",
       "      <td>MedHouseVal</td>\n",
       "      <td>1.156191e+00</td>\n",
       "    </tr>\n",
       "    <tr>\n",
       "      <th>2</th>\n",
       "      <td>AveRooms</td>\n",
       "      <td>4.141252e-16</td>\n",
       "    </tr>\n",
       "    <tr>\n",
       "      <th>4</th>\n",
       "      <td>Population</td>\n",
       "      <td>-1.945688e-17</td>\n",
       "    </tr>\n",
       "    <tr>\n",
       "      <th>1</th>\n",
       "      <td>HouseAge</td>\n",
       "      <td>-1.326114e-16</td>\n",
       "    </tr>\n",
       "    <tr>\n",
       "      <th>0</th>\n",
       "      <td>MedInc</td>\n",
       "      <td>-6.016731e-16</td>\n",
       "    </tr>\n",
       "    <tr>\n",
       "      <th>3</th>\n",
       "      <td>AveBedrms</td>\n",
       "      <td>-6.437347e-16</td>\n",
       "    </tr>\n",
       "  </tbody>\n",
       "</table>\n",
       "</div>"
      ],
      "text/plain": [
       "       Feature   Coefficient\n",
       "5  MedHouseVal  1.156191e+00\n",
       "2     AveRooms  4.141252e-16\n",
       "4   Population -1.945688e-17\n",
       "1     HouseAge -1.326114e-16\n",
       "0       MedInc -6.016731e-16\n",
       "3    AveBedrms -6.437347e-16"
      ]
     },
     "execution_count": 125,
     "metadata": {},
     "output_type": "execute_result"
    }
   ],
   "source": [
    "# Create a DataFrame to display feature importance\n",
    "feature_importance = pd.DataFrame({\n",
    "    'Feature': X.columns,\n",
    "    'Coefficient': model.coef_\n",
    "}).sort_values(by='Coefficient', ascending=False)\n",
    "\n",
    "feature_importance\n"
   ]
  },
  {
   "cell_type": "code",
   "execution_count": null,
   "id": "63393ca2-c1a5-4c43-807d-566eccb12fc7",
   "metadata": {},
   "outputs": [],
   "source": []
  }
 ],
 "metadata": {
  "kernelspec": {
   "display_name": "Python 3 (ipykernel)",
   "language": "python",
   "name": "python3"
  },
  "language_info": {
   "codemirror_mode": {
    "name": "ipython",
    "version": 3
   },
   "file_extension": ".py",
   "mimetype": "text/x-python",
   "name": "python",
   "nbconvert_exporter": "python",
   "pygments_lexer": "ipython3",
   "version": "3.12.4"
  }
 },
 "nbformat": 4,
 "nbformat_minor": 5
}
